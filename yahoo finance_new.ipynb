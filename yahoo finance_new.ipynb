{
 "cells": [
  {
   "cell_type": "code",
   "execution_count": 1,
   "metadata": {},
   "outputs": [],
   "source": [
    "import requests\n",
    "import csv\n",
    "from urllib.request import urlopen\n",
    "from bs4 import BeautifulSoup\n",
    "from urllib.request import HTTPError\n",
    "import numpy as np"
   ]
  },
  {
   "cell_type": "code",
   "execution_count": 2,
   "metadata": {},
   "outputs": [],
   "source": [
    "# income statement, yahoo finance \n",
    "test = 'https://finance.yahoo.com/quote/AAPL/financials?p=AAPL'\n",
    "try:\n",
    "    html = urlopen('https://finance.yahoo.com/quote/AAPL/financials?p=AAPL')\n",
    "except HTTPError as e:\n",
    "    print(\"not found\")\n",
    "bsObj = BeautifulSoup(html,\"html.parser\")\n",
    "tables = bsObj.findAll(\"table\",{\"class\":\"Lh(1.7) W(100%) M(0)\"})\n",
    "if tables is None:\n",
    "    print(\"no table\");\n",
    "    exit(1)"
   ]
  },
  {
   "cell_type": "code",
   "execution_count": 3,
   "metadata": {},
   "outputs": [],
   "source": [
    "for table in tables:\n",
    "    rows = table.findAll(\"tr\")\n",
    "    annual = []\n",
    "    try:\n",
    "        for row in rows:\n",
    "            ROW = []\n",
    "            for cell in row.findAll(['td']):\n",
    "                ROW.append(cell.get_text())\n",
    "            annual.append(ROW)\n",
    "            \n",
    "    finally:\n",
    "        #print(\"annual\",annual)\n",
    "        break"
   ]
  },
  {
   "cell_type": "code",
   "execution_count": 4,
   "metadata": {},
   "outputs": [],
   "source": [
    "# remove useless rows\n",
    "annual.remove(annual[4])\n",
    "annual.remove(annual[10])\n",
    "annual.remove(annual[17])\n",
    "annual.remove(annual[21])\n",
    "\n"
   ]
  },
  {
   "cell_type": "code",
   "execution_count": 5,
   "metadata": {},
   "outputs": [],
   "source": [
    "\n",
    "#[annual[i][0].replace(' ', '_').lower() for i in range(len(annual))]\n"
   ]
  },
  {
   "cell_type": "code",
   "execution_count": 8,
   "metadata": {},
   "outputs": [
    {
     "name": "stdout",
     "output_type": "stream",
     "text": [
      "{'revenue': '9/29/2018', 'total_revenue': '265,595,000', 'cost_of_revenue': '163,756,000', 'gross_profit': '101,839,000', 'research_development': '14,236,000', 'selling_general_and_administrative': '16,705,000', 'non_recurring': '-', 'others': '-', 'total_operating_expenses': '194,697,000', 'operating_income_or_loss': '70,898,000', 'total_other_income/expenses_net': '2,005,000', 'earnings_before_interest_and_taxes': '70,898,000', 'interest_expense': '-3,240,000', 'income_before_tax': '72,903,000', 'income_tax_expense': '13,372,000', 'minority_interest': '-', 'net_income_from_continuing_ops': '59,531,000', 'discontinued_operations': '-', 'extraordinary_items': '-', 'effect_of_accounting_changes': '-', 'other_items': '-', 'net_income': '59,531,000', 'preferred_stock_and_other_adjustments': '-', 'net_income_applicable_to_common_shares': '59,531,000'}\n"
     ]
    }
   ],
   "source": [
    "#AAPL annual '9/29/2018' income statement\n",
    "date_18 = {}\n",
    "for i in range(len(annual)):\n",
    "    date_18[annual[i][0].replace(' ', '_').lower()]= annual[i][1]\n",
    "#print(date_18)\n",
    "# replace 'Revenue' with 'Date'\n",
    "date_18['date']=date_18['revenue']\n",
    "del date_18['revenue']\n",
    "#print('date_18:',date_18)\n",
    "\n",
    "#AAPL annual '9/30/2017' income statement\n",
    "date_17 = {}\n",
    "for i in range(len(annual)):\n",
    "    date_17[annual[i][0].replace(' ', '_').lower()]= annual[i][1]\n",
    "# replace 'Revenue' with 'Date'\n",
    "date_17['date']=date_17['revenue']\n",
    "del date_17['revenue']\n",
    "#print('date_17:', date_17)\n",
    "\n",
    "#AAPL annual ''9/24/2016'' income statement\n",
    "date_16 = {}\n",
    "for i in range(len(annual)):\n",
    "    date_16[annual[i][0].replace(' ', '_').lower()]= annual[i][1]\n",
    "# replace 'Revenue' with 'Date'\n",
    "date_16['date']=date_16['revenue']\n",
    "del date_16['revenue']\n",
    "#print('date_16:', date_16)\n",
    "\n",
    "#AAPL annual '9/26/2015' income statement\n",
    "date_15 = {}\n",
    "for i in range(len(annual)):\n",
    "    date_15[annual[i][0].replace(' ', '_').lower()]= annual[i][1]\n",
    "# replace 'Revenue' with 'Date'\n",
    "date_15['date']=date_15['revenue']\n",
    "del date_15['revenue']\n",
    "#print('date_15:', date_15)"
   ]
  },
  {
   "cell_type": "code",
   "execution_count": 9,
   "metadata": {},
   "outputs": [],
   "source": [
    "# annual balance, yahoo finance \n",
    "try:\n",
    "    html = urlopen('https://finance.yahoo.com/quote/AAPL/balance-sheet?p=AAPL')\n",
    "except HTTPError as e:\n",
    "    print(\"not found\")\n",
    "bsObj = BeautifulSoup(html,\"html.parser\")\n",
    "tables = bsObj.findAll(\"table\",{\"class\":\"Lh(1.7) W(100%) M(0)\"})\n",
    "if tables is None:\n",
    "    print(\"no table\");\n",
    "    exit(1)"
   ]
  },
  {
   "cell_type": "code",
   "execution_count": 10,
   "metadata": {},
   "outputs": [],
   "source": [
    "for table in tables:\n",
    "    rows = table.findAll(\"tr\")\n",
    "    annual_balance = []\n",
    "    try:\n",
    "        for row in rows:\n",
    "            ROW = []\n",
    "            for cell in row.findAll(['td']):\n",
    "                ROW.append(cell.get_text())\n",
    "            annual_balance.append(ROW)\n",
    "            \n",
    "    finally:\n",
    "        #print(\"annual\",annual)\n",
    "        break"
   ]
  },
  {
   "cell_type": "code",
   "execution_count": 11,
   "metadata": {},
   "outputs": [],
   "source": [
    "#print(annual_balance)"
   ]
  },
  {
   "cell_type": "code",
   "execution_count": 12,
   "metadata": {},
   "outputs": [],
   "source": [
    "# remove useless rows\n",
    "annual_balance.remove(annual_balance[0])\n",
    "annual_balance.remove(annual_balance[0])\n",
    "annual_balance.remove(annual_balance[14])\n",
    "annual_balance.remove(annual_balance[24])\n",
    "#print(annual_balance)"
   ]
  },
  {
   "cell_type": "code",
   "execution_count": 13,
   "metadata": {},
   "outputs": [],
   "source": [
    "#AAPL annual '9/29/2018' balance sheet\n",
    "for i in range(len(annual_balance)):\n",
    "    date_18[annual_balance[i][0].replace(' ', '_').lower()]= annual_balance[i][1]\n",
    "#print(date_18)\n",
    "\n",
    "#AAPL annual '9/30/2017' balance sheet\n",
    "for i in range(len(annual_balance)):\n",
    "    date_17[annual_balance[i][0].replace(' ', '_').lower()]= annual_balance[i][1]\n",
    "#print(date_17)\n",
    "\n",
    "#AAPL annual '9/24/2016' balance sheet\n",
    "for i in range(len(annual_balance)):\n",
    "    date_16[annual_balance[i][0].replace(' ', '_').lower()]= annual_balance[i][1]\n",
    "#print(date_16)\n",
    "\n",
    "#AAPL annual '9/26/2015' balance sheet\n",
    "for i in range(len(annual_balance)):\n",
    "    date_15[annual_balance[i][0].replace(' ', '_').lower()]= annual_balance[i][1]\n",
    "#print(date_15)\n",
    "#print(len(date_18))\n"
   ]
  },
  {
   "cell_type": "code",
   "execution_count": 14,
   "metadata": {},
   "outputs": [],
   "source": [
    "# cash flow, yahoo finance \n",
    "try:\n",
    "    html = urlopen('https://finance.yahoo.com/quote/AAPL/cash-flow?p=AAPL')\n",
    "except HTTPError as e:\n",
    "    print(\"not found\")\n",
    "bsObj = BeautifulSoup(html,\"html.parser\")\n",
    "tables = bsObj.findAll(\"table\",{\"class\":\"Lh(1.7) W(100%) M(0)\"})\n",
    "if tables is None:\n",
    "    print(\"no table\");\n",
    "    exit(1)"
   ]
  },
  {
   "cell_type": "code",
   "execution_count": 15,
   "metadata": {},
   "outputs": [],
   "source": [
    "for table in tables:\n",
    "    rows = table.findAll(\"tr\")\n",
    "    annual_cash = []\n",
    "    try:\n",
    "        for row in rows:\n",
    "            ROW = []\n",
    "            for cell in row.findAll(['td']):\n",
    "                ROW.append(cell.get_text())\n",
    "            annual_cash.append(ROW)\n",
    "            \n",
    "    finally:\n",
    "        #print(\"annual\",annual)\n",
    "        break"
   ]
  },
  {
   "cell_type": "code",
   "execution_count": 16,
   "metadata": {},
   "outputs": [],
   "source": [
    "# remove useless rows\n",
    "annual_cash.remove(annual_cash[0])\n",
    "annual_cash.remove(annual_cash[1])\n",
    "annual_cash.remove(annual_cash[8])\n",
    "annual_cash.remove(annual_cash[12])\n",
    "#print(annual_cash)"
   ]
  },
  {
   "cell_type": "code",
   "execution_count": 17,
   "metadata": {},
   "outputs": [],
   "source": [
    "#AAPL annual '9/29/2018' balance sheet\n",
    "for i in range(len(annual_cash)):\n",
    "    date_18[annual_cash[i][0].replace(' ', '_').lower()]= annual_cash[i][1]\n",
    "#print(date_18)\n",
    "\n",
    "#AAPL annual '9/30/2017' balance sheet\n",
    "for i in range(len(annual_cash)):\n",
    "    date_17[annual_cash[i][0].replace(' ', '_').lower()]= annual_cash[i][1]\n",
    "#print(date_17)\n",
    "\n",
    "#AAPL annual '9/24/2016' balance sheet\n",
    "for i in range(len(annual_cash)):\n",
    "    date_16[annual_cash[i][0].replace(' ', '_').lower()]= annual_cash[i][1]\n",
    "#print(date_16)\n",
    "\n",
    "#AAPL annual '9/26/2015' balance sheet\n",
    "for i in range(len(annual_cash)):\n",
    "    date_15[annual_cash[i][0].replace(' ', '_').lower()]= annual_cash[i][1]\n",
    "#print(date_15)"
   ]
  },
  {
   "cell_type": "code",
   "execution_count": 18,
   "metadata": {},
   "outputs": [
    {
     "name": "stdout",
     "output_type": "stream",
     "text": [
      "{'total_revenue': '265,595,000', 'cost_of_revenue': '163,756,000', 'gross_profit': '101,839,000', 'research_development': '14,236,000', 'selling_general_and_administrative': '16,705,000', 'non_recurring': '-', 'others': '-', 'total_operating_expenses': '194,697,000', 'operating_income_or_loss': '70,898,000', 'total_other_income/expenses_net': '2,005,000', 'earnings_before_interest_and_taxes': '70,898,000', 'interest_expense': '-3,240,000', 'income_before_tax': '72,903,000', 'income_tax_expense': '13,372,000', 'minority_interest': '-', 'net_income_from_continuing_ops': '59,531,000', 'discontinued_operations': '-', 'extraordinary_items': '-', 'effect_of_accounting_changes': '-', 'other_items': '-', 'net_income': '59,531,000', 'preferred_stock_and_other_adjustments': '-', 'net_income_applicable_to_common_shares': '59,531,000', 'date': '9/29/2018', 'cash_and_cash_equivalents': '25,913,000', 'short_term_investments': '40,388,000', 'net_receivables': '48,995,000', 'inventory': '3,956,000', 'other_current_assets': '12,087,000', 'total_current_assets': '131,339,000', 'long_term_investments': '170,799,000', 'property_plant_and_equipment': '41,304,000', 'goodwill': '-', 'intangible_assets': '-', 'accumulated_amortization': '-', 'other_assets': '22,283,000', 'deferred_long_term_asset_charges': '-', 'total_assets': '365,725,000', 'accounts_payable': '55,888,000', 'short/current_long_term_debt': '8,784,000', 'other_current_liabilities': '40,230,000', 'total_current_liabilities': '116,866,000', 'long_term_debt': '93,735,000', 'other_liabilities': '47,977,000', 'deferred_long_term_liability_charges': '-', 'negative_goodwill': '-', 'total_liabilities': '258,578,000', 'misc._stocks_options_warrants': '-', 'redeemable_preferred_stock': '-', 'preferred_stock': '-', 'common_stock': '40,201,000', 'retained_earnings': '70,400,000', 'treasury_stock': '-3,454,000', 'capital_surplus': '-', 'other_stockholder_equity': '-3,454,000', 'total_stockholder_equity': '107,147,000', 'net_tangible_assets': '107,147,000', 'depreciation': '10,903,000', 'adjustments_to_net_income': '-27,694,000', 'changes_in_accounts_receivables': '-5,322,000', 'changes_in_liabilities': '9,131,000', 'changes_in_inventories': '828,000', 'changes_in_other_operating_activities': '30,057,000', 'total_cash_flow_from_operating_activities': '77,434,000', 'capital_expenditures': '-13,313,000', 'investments': '30,845,000', 'other_cash_flows_from_investing_activities': '-745,000', 'total_cash_flows_from_investing_activities': '16,066,000', 'dividends_paid': '-13,712,000', 'sale_purchase_of_stock': '-', 'net_borrowings': '432,000', 'other_cash_flows_from_financing_activities': '-', 'total_cash_flows_from_financing_activities': '-87,876,000', 'effect_of_exchange_rate_changes': '-', 'change_in_cash_and_cash_equivalents': '5,624,000', 'ticker': 'AAPL'}\n"
     ]
    },
    {
     "data": {
      "text/plain": [
       "{'total_revenue': '265,595,000',\n",
       " 'cost_of_revenue': '163,756,000',\n",
       " 'gross_profit': '101,839,000',\n",
       " 'research_development': '14,236,000',\n",
       " 'selling_general_and_administrative': '16,705,000',\n",
       " 'non_recurring': '-',\n",
       " 'others': '-',\n",
       " 'total_operating_expenses': '194,697,000',\n",
       " 'operating_income_or_loss': '70,898,000',\n",
       " 'total_other_income/expenses_net': '2,005,000',\n",
       " 'earnings_before_interest_and_taxes': '70,898,000',\n",
       " 'interest_expense': '-3,240,000',\n",
       " 'income_before_tax': '72,903,000',\n",
       " 'income_tax_expense': '13,372,000',\n",
       " 'minority_interest': '-',\n",
       " 'net_income_from_continuing_ops': '59,531,000',\n",
       " 'discontinued_operations': '-',\n",
       " 'extraordinary_items': '-',\n",
       " 'effect_of_accounting_changes': '-',\n",
       " 'other_items': '-',\n",
       " 'net_income': '59,531,000',\n",
       " 'preferred_stock_and_other_adjustments': '-',\n",
       " 'net_income_applicable_to_common_shares': '59,531,000',\n",
       " 'date': '9/29/2018',\n",
       " 'cash_and_cash_equivalents': '25,913,000',\n",
       " 'short_term_investments': '40,388,000',\n",
       " 'net_receivables': '48,995,000',\n",
       " 'inventory': '3,956,000',\n",
       " 'other_current_assets': '12,087,000',\n",
       " 'total_current_assets': '131,339,000',\n",
       " 'long_term_investments': '170,799,000',\n",
       " 'property_plant_and_equipment': '41,304,000',\n",
       " 'goodwill': '-',\n",
       " 'intangible_assets': '-',\n",
       " 'accumulated_amortization': '-',\n",
       " 'other_assets': '22,283,000',\n",
       " 'deferred_long_term_asset_charges': '-',\n",
       " 'total_assets': '365,725,000',\n",
       " 'accounts_payable': '55,888,000',\n",
       " 'short/current_long_term_debt': '8,784,000',\n",
       " 'other_current_liabilities': '40,230,000',\n",
       " 'total_current_liabilities': '116,866,000',\n",
       " 'long_term_debt': '93,735,000',\n",
       " 'other_liabilities': '47,977,000',\n",
       " 'deferred_long_term_liability_charges': '-',\n",
       " 'negative_goodwill': '-',\n",
       " 'total_liabilities': '258,578,000',\n",
       " 'misc._stocks_options_warrants': '-',\n",
       " 'redeemable_preferred_stock': '-',\n",
       " 'preferred_stock': '-',\n",
       " 'common_stock': '40,201,000',\n",
       " 'retained_earnings': '70,400,000',\n",
       " 'treasury_stock': '-3,454,000',\n",
       " 'capital_surplus': '-',\n",
       " 'other_stockholder_equity': '-3,454,000',\n",
       " 'total_stockholder_equity': '107,147,000',\n",
       " 'net_tangible_assets': '107,147,000',\n",
       " 'depreciation': '10,903,000',\n",
       " 'adjustments_to_net_income': '-27,694,000',\n",
       " 'changes_in_accounts_receivables': '-5,322,000',\n",
       " 'changes_in_liabilities': '9,131,000',\n",
       " 'changes_in_inventories': '828,000',\n",
       " 'changes_in_other_operating_activities': '30,057,000',\n",
       " 'total_cash_flow_from_operating_activities': '77,434,000',\n",
       " 'capital_expenditures': '-13,313,000',\n",
       " 'investments': '30,845,000',\n",
       " 'other_cash_flows_from_investing_activities': '-745,000',\n",
       " 'total_cash_flows_from_investing_activities': '16,066,000',\n",
       " 'dividends_paid': '-13,712,000',\n",
       " 'sale_purchase_of_stock': '-',\n",
       " 'net_borrowings': '432,000',\n",
       " 'other_cash_flows_from_financing_activities': '-',\n",
       " 'total_cash_flows_from_financing_activities': '-87,876,000',\n",
       " 'effect_of_exchange_rate_changes': '-',\n",
       " 'change_in_cash_and_cash_equivalents': '5,624,000',\n",
       " 'ticker': 'AAPL'}"
      ]
     },
     "execution_count": 18,
     "metadata": {},
     "output_type": "execute_result"
    }
   ],
   "source": [
    "take_ticker = 'https://finance.yahoo.com/quote/AAPL/financials?p=AAPL'\n",
    "take_ticker = take_ticker.split('/')\n",
    "tickers = take_ticker[4]\n",
    "date_18['ticker'] = tickers\n",
    "date_17['ticker'] = tickers\n",
    "date_16['ticker'] = tickers\n",
    "date_15['ticker'] = tickers\n",
    "#print(date_18)\n",
    "#date_18\n"
   ]
  },
  {
   "cell_type": "code",
   "execution_count": 49,
   "metadata": {},
   "outputs": [
    {
     "data": {
      "text/plain": [
       "0           A\n",
       "1          AA\n",
       "2        AAAU\n",
       "3        AABA\n",
       "4         AAC\n",
       "5        AADR\n",
       "6         AAL\n",
       "7        AAMC\n",
       "8        AAME\n",
       "9         AAN\n",
       "10       AAOI\n",
       "11       AAON\n",
       "12        AAP\n",
       "13       AAPL\n",
       "14        AAT\n",
       "15        AAU\n",
       "16       AAWW\n",
       "17       AAXJ\n",
       "18       AAXN\n",
       "19         AB\n",
       "20       ABAC\n",
       "21        ABB\n",
       "22       ABBV\n",
       "23        ABC\n",
       "24       ABCB\n",
       "25       ABDC\n",
       "26       ABEO\n",
       "27       ABEV\n",
       "28        ABG\n",
       "29       ABIL\n",
       "        ...  \n",
       "8558     ZHOK\n",
       "8559    ZIEXT\n",
       "8560     ZION\n",
       "8561    ZIONW\n",
       "8562     ZIOP\n",
       "8563      ZIV\n",
       "8564     ZIXI\n",
       "8565     ZJPN\n",
       "8566     ZKIN\n",
       "8567     ZLAB\n",
       "8568     ZMLP\n",
       "8569       ZN\n",
       "8570     ZNGA\n",
       "8571      ZNH\n",
       "8572      ZOM\n",
       "8573     ZROZ\n",
       "8574       ZS\n",
       "8575     ZSAN\n",
       "8576      ZSL\n",
       "8577      ZTO\n",
       "8578      ZTR\n",
       "8579      ZTS\n",
       "8580     ZUMZ\n",
       "8581      ZUO\n",
       "8582    ZVZZT\n",
       "8583    ZWZZT\n",
       "8584    ZXIET\n",
       "8585    ZXZZT\n",
       "8586     ZYME\n",
       "8587     ZYNE\n",
       "Name: symbol, Length: 8588, dtype: object"
      ]
     },
     "execution_count": 49,
     "metadata": {},
     "output_type": "execute_result"
    }
   ],
   "source": [
    "import pandas as pd\n",
    "tickers=pd.read_csv(\"/Users/sunyu/Desktop/crawller/company_tickers.csv\", header=0)\n",
    "tickers=tickers['symbol']\n",
    "for i in tickers:\n",
    "    try:\n",
    "    "
   ]
  },
  {
   "cell_type": "code",
   "execution_count": 16,
   "metadata": {},
   "outputs": [
    {
     "name": "stdout",
     "output_type": "stream",
     "text": [
      "76\n"
     ]
    }
   ],
   "source": [
    "print(len(date_18))"
   ]
  },
  {
   "cell_type": "code",
   "execution_count": null,
   "metadata": {},
   "outputs": [],
   "source": []
  }
 ],
 "metadata": {
  "kernelspec": {
   "display_name": "Python 3",
   "language": "python",
   "name": "python3"
  },
  "language_info": {
   "codemirror_mode": {
    "name": "ipython",
    "version": 3
   },
   "file_extension": ".py",
   "mimetype": "text/x-python",
   "name": "python",
   "nbconvert_exporter": "python",
   "pygments_lexer": "ipython3",
   "version": "3.6.5"
  }
 },
 "nbformat": 4,
 "nbformat_minor": 2
}
