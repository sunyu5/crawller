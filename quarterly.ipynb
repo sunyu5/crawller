{
 "cells": [
  {
   "cell_type": "code",
   "execution_count": 7,
   "metadata": {},
   "outputs": [],
   "source": [
    "import selenium\n",
    "from selenium import webdriver\n",
    "#from selenium.webdriver.common.keys import Keys\n",
    "#from selenium import webdriver\n",
    "from selenium.webdriver.chrome.options import Options\n",
    "from selenium.webdriver.common.by import By\n",
    "from selenium.webdriver import ActionChains"
   ]
  },
  {
   "cell_type": "code",
   "execution_count": 5,
   "metadata": {},
   "outputs": [],
   "source": [
    "#if you do not have chromedriver download http://chromedriver.storage.googleapis.com/2.46/chromedriver_mac64.zip\n",
    "CHROMEDRIVER_PATH = ('/Users/sunyu/Desktop/crawller/chromedriver')\n",
    "options = Options()\n",
    "options.add_argument('--headless')\n",
    "options.add_argument('--disable-gpu')  # Last I checked this was necessary.\n",
    "driver = webdriver.Chrome(CHROMEDRIVER_PATH, options=options)"
   ]
  },
  {
   "cell_type": "code",
   "execution_count": 11,
   "metadata": {},
   "outputs": [
    {
     "data": {
      "text/plain": [
       "24"
      ]
     },
     "execution_count": 11,
     "metadata": {},
     "output_type": "execute_result"
    }
   ],
   "source": [
    "#def getFinancials(ticker):\n",
    "   # headers={'Content-type':'application/json'}\n",
    "    #url='http://18.191.248.104:8888/api/company/add/financials'\n",
    "    # income statement, yahoo finance \n",
    "test = 'https://finance.yahoo.com/quote/'+'AAPL'+'/financials?p=AAPL'\n",
    "driver.get(test)\n",
    "#click buttom quarterly\n",
    "ac = driver.find_elements(By.XPATH,\"//*[@id=\\\"Col1-1-Financials-Proxy\\\"]/section/div[1]/div[2]/button\")\n",
    "ActionChains(driver).move_to_element(ac[0]).click(ac[0]).perform()\n",
    "#//*[@id=\"Col1-1-Financials-Proxy\"]/section/div[1]/div[2]/button\n",
    "table_Q = driver.find_elements(By.XPATH, \"//*[@id=\\\"Col1-1-Financials-Proxy\\\"]/section/div[3]/table\")\n",
    "Quarterly = table_Q[0].text\n",
    "#remove useless rows\n",
    "quarterly_new = Quarterly.splitlines()\n",
    "del quarterly_new[4]\n",
    "del quarterly_new[10]\n",
    "del quarterly_new[17]\n",
    "del quarterly_new[21]\n",
    "#quarterly_new\n",
    "import re\n",
    "quarterly_s = []\n",
    "rgx = re.compile('(?<=[A-Za-z])\\s(?=[a-zA-Z])')\n",
    "for i in range(len(quarterly_new)):\n",
    "    quarterly_s.append(rgx.sub('_',quarterly_new[i]))\n",
    "#quarterly_s\n",
    "quarterly_ls = []\n",
    "for i in range(len(quarterly_s)):\n",
    "    quarterly_ls.append(quarterly_s[i].lower().split())\n",
    "#len(quarterly_ls)"
   ]
  },
  {
   "cell_type": "code",
   "execution_count": 10,
   "metadata": {},
   "outputs": [
    {
     "name": "stdout",
     "output_type": "stream",
     "text": [
      "date_18: {'total_revenue': '84,310,000', 'cost_of_revenue': '52,279,000', 'gross_profit': '32,031,000', 'research_development': '3,902,000', 'selling_general_and_administrative': '4,783,000', 'non_recurring': '-', 'others': '-', 'total_operating_expenses': '60,964,000', 'operating_income_or_loss': '23,346,000', 'total_other_income_expenses_net': '560,000', 'earnings_before_interest_and_taxes': '23,346,000', 'interest_expense': '-890,000', 'income_before_tax': '23,906,000', 'income_tax_expense': '3,941,000', 'minority_interest': '-', 'net_income_from_continuing_ops': '19,965,000', 'discontinued_operations': '-', 'extraordinary_items': '-', 'effect_of_accounting_changes': '-', 'other_items': '-', 'net_income': '19,965,000', 'preferred_stock_and_other_adjustments': '-', 'net_income_applicable_to_common_shares': '19,965,000', 'date': '12/29/2018'}\n"
     ]
    }
   ],
   "source": [
    "for j in range(len(quarterly_ls)):\n",
    "        quarterly_ls[j][0]=quarterly_ls[j][0].replace('/','_')\n",
    "        quarterly_ls[j][0]=quarterly_ls[j][0].replace('.','')\n",
    "\n",
    "#AAPL quarterly '9/29/2018' income statement\n",
    "date_18 = {}\n",
    "for i in range(len(quarterly_ls)):\n",
    "    date_18[quarterly_ls[i][0].replace(' ', '_').lower()]= quarterly_ls[i][1]\n",
    "#print(date_18)\n",
    "# replace 'Revenue' with 'Date'\n",
    "date_18['date']=date_18['revenue']\n",
    "del date_18['revenue']\n",
    "#print('date_18:',date_18)\n",
    "\n",
    "#AAPL quarterly '9/30/2017' income statement\n",
    "date_17 = {}\n",
    "for i in range(len(quarterly_ls)):\n",
    "    date_17[quarterly_ls[i][0].replace(' ', '_').lower()]= quarterly_ls[i][2]\n",
    "# replace 'Revenue' with 'Date'\n",
    "date_17['date']=date_17['revenue']\n",
    "del date_17['revenue']\n",
    "#print('date_17:', date_17)\n",
    "\n",
    "#AAPL quarterly ''9/24/2016'' income statement\n",
    "date_16 = {}\n",
    "for i in range(len(quarterly_ls)):\n",
    "    date_16[quarterly_ls[i][0].replace(' ', '_').lower()]= quarterly_ls[i][3]\n",
    "# replace 'Revenue' with 'Date'\n",
    "date_16['date']=date_16['revenue']\n",
    "del date_16['revenue']\n",
    "#print('date_16:', date_16)\n",
    "\n",
    "#AAPL quarterly '9/26/2015' income statement\n",
    "date_15 = {}\n",
    "for i in range(len(quarterly_ls)):\n",
    "    date_15[quarterly_ls[i][0].replace(' ', '_').lower()]= quarterly_ls[i][4]\n",
    "# replace 'Revenue' with 'Date'\n",
    "date_15['date']=date_15['revenue']\n",
    "del date_15['revenue']\n",
    "#print('date_15:', date_15)"
   ]
  },
  {
   "cell_type": "code",
   "execution_count": 18,
   "metadata": {},
   "outputs": [],
   "source": [
    "# quarterly balance, yahoo finance \n",
    "\n",
    "driver.get(\"https://finance.yahoo.com/quote/AAPL/balance-sheet?p=AAPL\")\n",
    "\n",
    "ac = driver.find_elements(By.XPATH,\"//*[@id=\\\"Col1-1-Financials-Proxy\\\"]/section/div[1]/div[2]/button\")\n",
    "ActionChains(driver).move_to_element(ac[0]).click(ac[0]).perform()\n",
    "#//*[@id=\"Col1-1-Financials-Proxy\"]/section/div[1]/div[2]/button\n",
    "table_Q_balance = driver.find_elements(By.XPATH, \"//*[@id=\\\"Col1-1-Financials-Proxy\\\"]/section/div[3]/table\")\n",
    "Quarterly_balance = table_Q_balance[0].text"
   ]
  },
  {
   "cell_type": "code",
   "execution_count": 19,
   "metadata": {},
   "outputs": [
    {
     "data": {
      "text/plain": [
       "34"
      ]
     },
     "execution_count": 19,
     "metadata": {},
     "output_type": "execute_result"
    }
   ],
   "source": [
    "quarterly_balance_new = Quarterly_balance.splitlines()\n",
    "del quarterly_balance_new[0]\n",
    "del quarterly_balance_new[0]\n",
    "del quarterly_balance_new[14]\n",
    "del quarterly_balance_new[24]\n",
    "#quarterly_new\n",
    "import re\n",
    "quarterly_s_balance = []\n",
    "rgx = re.compile('(?<=[A-Za-z])\\s(?=[a-zA-Z])')\n",
    "for i in range(len(quarterly_balance_new)):\n",
    "    quarterly_s_balance.append(rgx.sub('_',quarterly_balance_new[i]))\n",
    "#quarterly_s\n",
    "quarterly_ls_balance = []\n",
    "for i in range(len(quarterly_s_balance)):\n",
    "    quarterly_ls_balance.append(quarterly_s_balance[i].lower().split())\n",
    "#len(quarterly_ls_balance)"
   ]
  },
  {
   "cell_type": "code",
   "execution_count": 21,
   "metadata": {},
   "outputs": [
    {
     "name": "stdout",
     "output_type": "stream",
     "text": [
      "{'total_revenue': '84,310,000', 'cost_of_revenue': '52,279,000', 'gross_profit': '32,031,000', 'research_development': '3,902,000', 'selling_general_and_administrative': '4,783,000', 'non_recurring': '-', 'others': '-', 'total_operating_expenses': '60,964,000', 'operating_income_or_loss': '23,346,000', 'total_other_income_expenses_net': '560,000', 'earnings_before_interest_and_taxes': '23,346,000', 'interest_expense': '-890,000', 'income_before_tax': '23,906,000', 'income_tax_expense': '3,941,000', 'minority_interest': '-', 'net_income_from_continuing_ops': '19,965,000', 'discontinued_operations': '-', 'extraordinary_items': '-', 'effect_of_accounting_changes': '-', 'other_items': '-', 'net_income': '19,965,000', 'preferred_stock_and_other_adjustments': '-', 'net_income_applicable_to_common_shares': '19,965,000', 'date': '12/29/2018', 'cash_and_cash_equivalents': '44,771,000', 'short_term_investments': '41,656,000', 'net_receivables': '36,981,000', 'inventory': '4,988,000', 'other_current_assets': '12,432,000', 'total_current_assets': '140,828,000', 'long_term_investments': '158,608,000', 'property_plant_and_equipment': '39,597,000', 'goodwill': '-', 'intangible_assets': '-', 'accumulated_amortization': '-', 'other_assets': '34,686,000', 'deferred_long_term_asset_charges': '-', 'total_assets': '373,719,000', 'accounts_payable': '44,293,000', 'short_current_long_term_debt': '9,772,000', 'other_current_liabilities': '42,249,000', 'total_current_liabilities': '108,283,000', 'long_term_debt': '92,989,000', 'other_liabilities': '54,555,000', 'deferred_long_term_liability_charges': '-', 'negative_goodwill': '-', 'total_liabilities': '255,827,000', 'misc': 'stocks_options_warrants', 'redeemable_preferred_stock': '-', 'preferred_stock': '-', 'common_stock': '40,970,000', 'retained_earnings': '80,510,000', 'treasury_stock': '-3,588,000', 'capital_surplus': '-', 'other_stockholder_equity': '-3,588,000', 'total_stockholder_equity': '117,892,000', 'net_tangible_assets': '117,892,000'}\n",
      "57\n"
     ]
    }
   ],
   "source": [
    "for j in range(len(quarterly_ls_balance)):\n",
    "        quarterly_ls_balance[j][0]=quarterly_ls_balance[j][0].replace('/','_')\n",
    "        quarterly_ls_balance[j][0]=quarterly_ls_balance[j][0].replace('.','')\n",
    "\n",
    "#AAPL annual '9/29/2018' balance sheet\n",
    "for i in range(len(quarterly_ls_balance)):\n",
    "    date_18[quarterly_ls_balance[i][0].replace(' ', '_').lower()]= quarterly_ls_balance[i][1]\n",
    "#print(date_18)\n",
    "\n",
    "#AAPL annual '9/30/2017' balance sheet\n",
    "for i in range(len(quarterly_ls_balance)):\n",
    "    date_17[quarterly_ls_balance[i][0].replace(' ', '_').lower()]= quarterly_ls_balance[i][2]\n",
    "#print(date_17)\n",
    "\n",
    "#AAPL annual '9/24/2016' balance sheet\n",
    "for i in range(len(quarterly_ls_balance)):\n",
    "    date_16[quarterly_ls_balance[i][0].replace(' ', '_').lower()]= quarterly_ls_balance[i][3]\n",
    "#print(date_16)\n",
    "\n",
    "#AAPL annual '9/26/2015' balance sheet\n",
    "for i in range(len(quarterly_ls_balance)):\n",
    "    date_15[quarterly_ls_balance[i][0].replace(' ', '_').lower()]= quarterly_ls_balance[i][4]\n",
    "#print(date_15)\n",
    "#print(len(date_18))"
   ]
  },
  {
   "cell_type": "code",
   "execution_count": 22,
   "metadata": {},
   "outputs": [],
   "source": [
    "#https://finance.yahoo.com/quote/AAPL/cash-flow?p=AAPL\n",
    "driver.get(\"https://finance.yahoo.com/quote/AAPL/cash-flow?p=AAPL\")\n",
    "ac = driver.find_elements(By.XPATH,\"//*[@id=\\\"Col1-1-Financials-Proxy\\\"]/section/div[1]/div[2]/button\")\n",
    "ActionChains(driver).move_to_element(ac[0]).click(ac[0]).perform()\n",
    "#//*[@id=\"Col1-1-Financials-Proxy\"]/section/div[1]/div[2]/button\n",
    "table_Q_cashflow = driver.find_elements(By.XPATH, \"//*[@id=\\\"Col1-1-Financials-Proxy\\\"]/section/div[3]/table\")\n",
    "Quarterly_cashflow = table_Q_cashflow[0].text"
   ]
  },
  {
   "cell_type": "code",
   "execution_count": 23,
   "metadata": {},
   "outputs": [
    {
     "data": {
      "text/plain": [
       "19"
      ]
     },
     "execution_count": 23,
     "metadata": {},
     "output_type": "execute_result"
    }
   ],
   "source": [
    "quarterly_cashflow_new = Quarterly_cashflow.splitlines()\n",
    "del quarterly_cashflow_new[0]\n",
    "del quarterly_cashflow_new[1]\n",
    "del quarterly_cashflow_new[8]\n",
    "del quarterly_cashflow_new[12]\n",
    "#quarterly_new\n",
    "import re\n",
    "quarterly_s_cashflow = []\n",
    "rgx = re.compile('(?<=[A-Za-z])\\s(?=[a-zA-Z])')\n",
    "for i in range(len(quarterly_cashflow_new)):\n",
    "    quarterly_s_cashflow.append(rgx.sub('_',quarterly_cashflow_new[i]))\n",
    "#quarterly_s\n",
    "quarterly_ls_cashflow = []\n",
    "for i in range(len(quarterly_s_cashflow)):\n",
    "    quarterly_ls_cashflow.append(quarterly_s_cashflow[i].lower().split())\n",
    "#len(quarterly_ls_cashflow)"
   ]
  },
  {
   "cell_type": "code",
   "execution_count": 25,
   "metadata": {},
   "outputs": [
    {
     "name": "stdout",
     "output_type": "stream",
     "text": [
      "76\n"
     ]
    }
   ],
   "source": [
    "for j in range(len(quarterly_ls_cashflow)):\n",
    "        quarterly_ls_cashflow[j][0]=quarterly_ls_cashflow[j][0].replace('/','_')\n",
    "        quarterly_ls_cashflow[j][0]=quarterly_ls_cashflow[j][0].replace('.','')\n",
    "date_18['cashflow_net_income']=quarterly_ls_cashflow[0][1]\n",
    "#date_18['ticker']=str(ticker)\n",
    "date_17['cashflow_net_income']=quarterly_ls_cashflow[0][2]\n",
    "#date_17['ticker']=str(ticker)\n",
    "date_16['cashflow_net_income']=quarterly_ls_cashflow[0][3]\n",
    "#date_16['ticker']=str(ticker)\n",
    "date_15['cashflow_net_income']=quarterly_ls_cashflow[0][4]\n",
    "#date_15['ticker']=str(ticker)\n",
    "#AAPL annual '9/29/2018' balance sheet\n",
    "for i in range(1, len(quarterly_ls_cashflow)):\n",
    "    date_18[quarterly_ls_cashflow[i][0].replace(' ', '_').lower()]= quarterly_ls_cashflow[i][1]\n",
    "#print(date_18)\n",
    "\n",
    "#AAPL annual '9/30/2017' balance sheet\n",
    "for i in range(1, len(quarterly_ls_cashflow)):\n",
    "    date_17[quarterly_ls_cashflow[i][0].replace(' ', '_').lower()]= quarterly_ls_cashflow[i][2]\n",
    "#print(date_17)\n",
    "\n",
    "#AAPL annual '9/24/2016' balance sheet\n",
    "for i in range(1, len(quarterly_ls_cashflow)):\n",
    "    date_16[quarterly_ls_cashflow[i][0].replace(' ', '_').lower()]= quarterly_ls_cashflow[i][3]\n",
    "#print(date_16)\n",
    "\n",
    "#AAPL annual '9/26/2015' balance sheet\n",
    "for i in range(1, len(quarterly_ls_cashflow)):\n",
    "    date_15[quarterly_ls_cashflow[i][0].replace(' ', '_').lower()]= quarterly_ls_cashflow[i][4]\n",
    "#print(len(date_15))"
   ]
  },
  {
   "cell_type": "code",
   "execution_count": 26,
   "metadata": {},
   "outputs": [],
   "source": [
    "#res=requests.post(url, data=json.dumps(date_18), headers=headers)\n",
    "#print(res.status_code)\n",
    "#res=requests.post(url, data=json.dumps(date_17), headers=headers)\n",
    "#print(res.status_code)\n",
    "#res=requests.post(url, data=json.dumps(date_16), headers=headers)\n",
    "#print(res.status_code)\n",
    "#res=requests.post(url, data=json.dumps(date_15), headers=headers)\n",
    "#print(res.status_code)"
   ]
  },
  {
   "cell_type": "code",
   "execution_count": null,
   "metadata": {},
   "outputs": [],
   "source": [
    "if __name__==\"__main__\":\n",
    "    tickers=pd.read_csv(\"company_tickers.csv\", header=0)\n",
    "    tickers=tickers['symbol']\n",
    "    for i in tickers:\n",
    "        getFinancials(i)"
   ]
  }
 ],
 "metadata": {
  "kernelspec": {
   "display_name": "Python 3",
   "language": "python",
   "name": "python3"
  },
  "language_info": {
   "codemirror_mode": {
    "name": "ipython",
    "version": 3
   },
   "file_extension": ".py",
   "mimetype": "text/x-python",
   "name": "python",
   "nbconvert_exporter": "python",
   "pygments_lexer": "ipython3",
   "version": "3.6.5"
  }
 },
 "nbformat": 4,
 "nbformat_minor": 2
}
