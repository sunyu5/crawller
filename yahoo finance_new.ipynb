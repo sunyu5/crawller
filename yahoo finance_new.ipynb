{
 "cells": [
  {
   "cell_type": "code",
   "execution_count": 1,
   "metadata": {},
   "outputs": [],
   "source": [
    "import requests\n",
    "import csv\n",
    "from urllib.request import urlopen\n",
    "from bs4 import BeautifulSoup\n",
    "from urllib.request import HTTPError\n",
    "import numpy as np"
   ]
  },
  {
   "cell_type": "code",
   "execution_count": 2,
   "metadata": {},
   "outputs": [],
   "source": [
    "try:\n",
    "    html = urlopen('https://finance.yahoo.com/quote/AAPL/financials?p=AAPL')\n",
    "except HTTPError as e:\n",
    "    print(\"not found\")\n",
    "bsObj = BeautifulSoup(html,\"html.parser\")\n",
    "tables = bsObj.findAll(\"table\",{\"class\":\"Lh(1.7) W(100%) M(0)\"})\n",
    "if tables is None:\n",
    "    print(\"no table\");\n",
    "    exit(1)"
   ]
  },
  {
   "cell_type": "code",
   "execution_count": 47,
   "metadata": {},
   "outputs": [],
   "source": [
    "for table in tables:\n",
    "    rows = table.findAll(\"tr\")\n",
    "    annual = []\n",
    "    try:\n",
    "        for row in rows:\n",
    "            ROW = []\n",
    "            for cell in row.findAll(['td']):\n",
    "                ROW.append(cell.get_text())\n",
    "            annual.append(ROW)\n",
    "            \n",
    "    finally:\n",
    "        #print(\"annual\",annual)\n",
    "        break"
   ]
  },
  {
   "cell_type": "code",
   "execution_count": 53,
   "metadata": {},
   "outputs": [
    {
     "name": "stdout",
     "output_type": "stream",
     "text": [
      "[['Revenue', '9/29/2018', '9/30/2017', '9/24/2016', '9/26/2015'], ['Total Revenue', '265,595,000', '229,234,000', '215,639,000', '233,715,000'], ['Cost of Revenue', '163,756,000', '141,048,000', '131,376,000', '140,089,000'], ['Gross Profit', '101,839,000', '88,186,000', '84,263,000', '93,626,000'], ['Research Development', '14,236,000', '11,581,000', '10,045,000', '8,067,000'], ['Selling General and Administrative', '16,705,000', '15,261,000', '14,194,000', '14,329,000'], ['Non Recurring', '-', '-', '-', '-'], ['Others', '-', '-', '-', '-'], ['Total Operating Expenses', '194,697,000', '167,890,000', '155,615,000', '162,485,000'], ['Total Other Income/Expenses Net', '2,005,000', '2,745,000', '1,348,000', '1,285,000'], ['Earnings Before Interest and Taxes', '70,898,000', '61,344,000', '60,024,000', '71,230,000'], ['Interest Expense', '-3,240,000', '-2,323,000', '-1,456,000', '-733,000'], ['Income Before Tax', '72,903,000', '64,089,000', '61,372,000', '72,515,000'], ['Income Tax Expense', '13,372,000', '15,738,000', '15,685,000', '19,121,000'], ['Minority Interest', '-', '-', '-', '-'], ['Net Income From Continuing Ops', '59,531,000', '48,351,000', '45,687,000', '53,394,000'], ['Discontinued Operations', '-', '-', '-', '-'], ['Extraordinary Items', '-', '-', '-', '-'], ['Effect Of Accounting Changes', '-', '-', '-', '-'], ['Other Items', '-', '-', '-', '-'], ['Net Income', '59,531,000', '48,351,000', '45,687,000', '53,394,000'], ['Preferred Stock And Other Adjustments', '-', '-', '-', '-'], ['Net Income Applicable To Common Shares', '59,531,000', '48,351,000', '45,687,000', '53,394,000']]\n"
     ]
    }
   ],
   "source": [
    "#date_years = annual[0][1:]\n",
    "#print(date_years)\n",
    "#annual.remove(annual[4])\n",
    "#annual.remove(annual[20])\n",
    "print(annual)\n"
   ]
  },
  {
   "cell_type": "code",
   "execution_count": 54,
   "metadata": {},
   "outputs": [
    {
     "name": "stdout",
     "output_type": "stream",
     "text": [
      "{'Revenue': '9/29/2018', 'Total Revenue': '265,595,000', 'Cost of Revenue': '163,756,000', 'Gross Profit': '101,839,000', 'Research Development': '14,236,000', 'Selling General and Administrative': '16,705,000', 'Non Recurring': '-', 'Others': '-', 'Total Operating Expenses': '194,697,000', 'Total Other Income/Expenses Net': '2,005,000', 'Earnings Before Interest and Taxes': '70,898,000', 'Interest Expense': '-3,240,000', 'Income Before Tax': '72,903,000', 'Income Tax Expense': '13,372,000', 'Minority Interest': '-', 'Net Income From Continuing Ops': '59,531,000', 'Discontinued Operations': '-', 'Extraordinary Items': '-', 'Effect Of Accounting Changes': '-', 'Other Items': '-', 'Net Income': '59,531,000', 'Preferred Stock And Other Adjustments': '-'}\n"
     ]
    }
   ],
   "source": [
    "date_18 = {}\n",
    "for i in range(len(annual)-1):\n",
    "    date_18[annual[i][0]]= annual[i][1]\n",
    "print(date_18)\n",
    "#columns = annual[1][2]\n",
    "#columns"
   ]
  },
  {
   "cell_type": "code",
   "execution_count": 32,
   "metadata": {},
   "outputs": [
    {
     "data": {
      "text/plain": [
       "'Total Revenue'"
      ]
     },
     "execution_count": 32,
     "metadata": {},
     "output_type": "execute_result"
    }
   ],
   "source": [
    "columns = annual[1][0]\n",
    "columns"
   ]
  },
  {
   "cell_type": "code",
   "execution_count": null,
   "metadata": {},
   "outputs": [],
   "source": []
  }
 ],
 "metadata": {
  "kernelspec": {
   "display_name": "Python 3",
   "language": "python",
   "name": "python3"
  },
  "language_info": {
   "codemirror_mode": {
    "name": "ipython",
    "version": 3
   },
   "file_extension": ".py",
   "mimetype": "text/x-python",
   "name": "python",
   "nbconvert_exporter": "python",
   "pygments_lexer": "ipython3",
   "version": "3.6.5"
  }
 },
 "nbformat": 4,
 "nbformat_minor": 2
}
